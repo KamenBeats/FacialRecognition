{
 "cells": [
  {
   "cell_type": "code",
   "execution_count": 1,
   "metadata": {},
   "outputs": [],
   "source": [
    "import os\n",
    "import glob\n",
    "import numpy as np\n",
    "from torchvision import transforms\n",
    "import torch\n",
    "from PIL import Image\n",
    "import pickle\n",
    "from facenet_pytorch import InceptionResnetV1"
   ]
  },
  {
   "cell_type": "code",
   "execution_count": 2,
   "metadata": {},
   "outputs": [
    {
     "name": "stdout",
     "output_type": "stream",
     "text": [
      "Database saved successfully.\n"
     ]
    }
   ],
   "source": [
    "device = torch.device('cuda' if torch.cuda.is_available() else 'cpu')\n",
    "facenet_model = InceptionResnetV1(pretrained='vggface2').eval().to(device)\n",
    "\n",
    "# Thư mục dataset\n",
    "dataset_folder = \"faces/\"\n",
    "\n",
    "# Hàm chuyển đổi hình ảnh sang embedding sử dụng FaceNet\n",
    "def img_to_encoding(img_path, model):\n",
    "    img = Image.open(img_path).convert('RGB')\n",
    "    transform = transforms.Compose([\n",
    "        transforms.Resize((160, 160)),\n",
    "        transforms.ToTensor(),\n",
    "        transforms.Normalize([0.5, 0.5, 0.5], [0.5, 0.5, 0.5])\n",
    "    ])\n",
    "    img_tensor = transform(img).unsqueeze(0).to(device)\n",
    "    with torch.no_grad():\n",
    "        encoding = model(img_tensor).cpu().numpy()\n",
    "    return encoding\n",
    "\n",
    "# Hàm khởi tạo cơ sở dữ liệu với embeddings của FaceNet\n",
    "def initialize(model):\n",
    "    database = {}\n",
    "\n",
    "    # Tải tất cả hình ảnh của các cá nhân để nhận diện vào cơ sở dữ liệu\n",
    "    for folder in glob.glob(os.path.join(dataset_folder, \"*\")):\n",
    "        if os.path.isdir(folder):\n",
    "            identity = os.path.basename(folder)\n",
    "            encodings = []\n",
    "            for img_path in glob.glob(os.path.join(folder, '*')):\n",
    "                try:\n",
    "                    enc = img_to_encoding(img_path, model)\n",
    "                    encodings.append(enc)\n",
    "                except Exception as e:\n",
    "                    print(f\"Error loading image {img_path}: {e}\")\n",
    "            if encodings:\n",
    "                database[identity] = np.mean(encodings, axis=0)\n",
    "\n",
    "    return database\n",
    "\n",
    "# Lưu cơ sở dữ liệu vào một file\n",
    "database = initialize(facenet_model)\n",
    "with open('face_database.pkl', 'wb') as f:\n",
    "    pickle.dump(database, f)\n",
    "print(\"Database saved successfully.\")"
   ]
  },
  {
   "cell_type": "code",
   "execution_count": null,
   "metadata": {},
   "outputs": [],
   "source": []
  }
 ],
 "metadata": {
  "kernelspec": {
   "display_name": "Python 3",
   "language": "python",
   "name": "python3"
  },
  "language_info": {
   "codemirror_mode": {
    "name": "ipython",
    "version": 3
   },
   "file_extension": ".py",
   "mimetype": "text/x-python",
   "name": "python",
   "nbconvert_exporter": "python",
   "pygments_lexer": "ipython3",
   "version": "3.12.4"
  }
 },
 "nbformat": 4,
 "nbformat_minor": 2
}
